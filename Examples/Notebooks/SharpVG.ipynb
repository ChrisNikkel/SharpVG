{
 "cells": [
  {
   "cell_type": "code",
   "execution_count": null,
   "metadata": {},
   "outputs": [],
   "source": [
    "#r \"nuget:SharpVG\"\n",
    "open SharpVG\n",
    "open System"
   ]
  },
  {
   "cell_type": "code",
   "execution_count": null,
   "metadata": {},
   "outputs": [],
   "source": [
    "let position = Point.ofInts (10, 10)\n",
    "let area = Area.ofInts (50, 50)\n",
    "let style = Style.create (Color.ofName Colors.LightBlue) (Color.ofName Colors.Blue) (Length.ofInt 3) 1.0 1.0\n",
    "let showSvg svg = display(HTML(Svg.toString svg))\n",
    "let t = Rect.create position area |> Element.createWithStyle style |> Svg.ofElement\n",
    "showSvg t"
   ]
  },
  {
   "cell_type": "code",
   "execution_count": null,
   "metadata": {},
   "outputs": [],
   "source": [
    "let black, white = Color.ofName Black, Color.ofName White\n",
    "let opaque = 1.0\n",
    "let style = Style.create black white Length.one opaque opaque\n",
    "let location = Point.ofInts (10, 10)\n",
    "let size = Area.ofInts (5, 5)\n",
    "let rectangle = Rect.create location size |> Element.create\n",
    "\n",
    "let rotate degrees = Transform.createRotate (float degrees) (Length.ofInt 20) (Length.ofInt 20)\n",
    "let rotationStart, rotationEnd = rotate 0, rotate 720\n",
    "\n",
    "let scale = Length.ofInt >> Transform.createScale\n",
    "let sizeStart, sizeEnd = scale 1, scale 6\n",
    "\n",
    "let offset x y =  Transform.createTranslate (Length.ofInt x) |> Transform.withY (Length.ofInt y)\n",
    "let offsetStart, offsetEnd = offset 0 0, offset 7 7\n",
    "\n",
    "let duration s = TimeSpan.FromSeconds(float s)\n",
    "let start, finish = duration 0, duration 6\n",
    "let repetition = { RepeatCount = RepeatCountValue.Indefinite; RepeatDuration = None }\n",
    "let timing = Timing.create start |> Timing.withDuration finish |> Timing.withRepetition repetition\n",
    "let timedAnimation = Animation.createTransform timing\n",
    "\n",
    "let animationValues = List.map2 timedAnimation [sizeStart; rotationStart; offsetStart] [sizeEnd; rotationEnd; offsetEnd]\n",
    "let animations = List.map (Animation.withAdditive Additive.Sum) animationValues\n",
    "\n",
    "let decoratedRectangle = rectangle |> Element.withStyle style |> Element.withAnimations animations\n",
    "\n",
    "let shapesSvg = decoratedRectangle |> Svg.ofElement\n",
    "\n",
    "showSvg shapesSvg"
   ]
  },
  {
   "cell_type": "code",
   "execution_count": null,
   "metadata": {},
   "outputs": [],
   "source": []
  }
 ],
 "metadata": {
  "kernelspec": {
   "display_name": ".NET (F#)",
   "language": "F#",
   "name": ".net-fsharp"
  },
  "language_info": {
   "file_extension": ".fs",
   "mimetype": "text/x-fsharp",
   "name": "C#",
   "pygments_lexer": "fsharp",
   "version": "4.5"
  }
 },
 "nbformat": 4,
 "nbformat_minor": 4
}
