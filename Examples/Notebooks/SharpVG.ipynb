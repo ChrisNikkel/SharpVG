{
 "cells": [
  {
   "cell_type": "code",
   "execution_count": null,
   "metadata": {},
   "outputs": [],
   "source": [
    "#r \"nuget:SharpVG\"\n",
    "open SharpVG"
   ]
  },
  {
   "cell_type": "code",
   "execution_count": null,
   "metadata": {},
   "outputs": [],
   "source": [
    "let position = Point.ofInts (10, 10)\n",
    "let area = Area.ofInts (50, 50)\n",
    "let style = Style.create (Color.ofName Colors.Cyan) (Color.ofName Colors.Blue) (Length.ofInt 3) 1.0 1.0\n",
    "let showSvg svg = display(HtmlString(Svg.toString svg)) \n",
    "let t = Rect.create position area |> Element.createWithStyle style |> Svg.ofElement\n",
    "showSvg t"
   ]
  },
  {
   "cell_type": "code",
   "execution_count": null,
   "metadata": {},
   "outputs": [],
   "source": [
    "// The plotting is very incomplete, but this shows you how easy it could be to leverage this for a plotting library\n",
    "\n",
    "let plotValues1 = Plot.plot [ for i in 0.0 .. 0.02 .. 2.0 * Math.PI -> (500.0 * cos i * sin i, 500.0 * sin i) ]\n",
    "let plotValues2 = Plot.plot [ for i in 0.0 .. 0.02 .. 2.0 * Math.PI -> (1000.0 * sin i, 1000.0 * cos i * sin i) ]\n",
    "\n",
    "let plotSvg = plotValues1 |> Plot.addPlot plotValues2 |> Svg.ofPlot\n",
    "showSvg plotSvg"
   ]
  },
  {
   "cell_type": "code",
   "execution_count": null,
   "metadata": {},
   "outputs": [],
   "source": []
  }
 ],
 "metadata": {
  "kernelspec": {
   "display_name": ".NET (F#)",
   "language": "F#",
   "name": ".net-fsharp"
  },
  "language_info": {
   "file_extension": ".fs",
   "mimetype": "text/x-fsharp",
   "name": "C#",
   "pygments_lexer": "fsharp",
   "version": "4.5"
  }
 },
 "nbformat": 4,
 "nbformat_minor": 4
}
