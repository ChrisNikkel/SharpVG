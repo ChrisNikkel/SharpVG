{
 "cells": [
  {
   "cell_type": "code",
   "execution_count": 1,
   "metadata": {},
   "outputs": [],
   "source": [
    "#r \"nuget:SharpVG\"\n",
    "open SharpVG"
   ]
  },
  {
   "cell_type": "code",
   "execution_count": 9,
   "metadata": {},
   "outputs": [
    {
     "data": {
      "text/html": [
       "<svg><rect stroke=\"blue\" stroke-width=\"3\" fill=\"cyan\" opacity=\"1\" fill-opacity=\"1\" x=\"10\" y=\"10\" width=\"50\" height=\"50\"/></svg>"
      ]
     },
     "metadata": {},
     "output_type": "display_data"
    }
   ],
   "source": [
    "let position = Point.ofInts (10, 10)\n",
    "let area = Area.ofInts (50, 50)\n",
    "let style = Style.create (Color.ofName Colors.Cyan) (Color.ofName Colors.Blue) (Length.ofInt 3) 1.0 1.0\n",
    "let showSvg svg = display(HtmlString(Svg.toString svg)) \n",
    "let t = Rect.create position area |> Element.createWithStyle style |> Svg.ofElement\n",
    "showSvg t"
   ]
  }
 ],
 "metadata": {
  "kernelspec": {
   "display_name": ".NET (F#)",
   "language": "F#",
   "name": ".net-fsharp"
  },
  "language_info": {
   "file_extension": ".fs",
   "mimetype": "text/x-fsharp",
   "name": "C#",
   "pygments_lexer": "fsharp",
   "version": "4.5"
  }
 },
 "nbformat": 4,
 "nbformat_minor": 4
}
